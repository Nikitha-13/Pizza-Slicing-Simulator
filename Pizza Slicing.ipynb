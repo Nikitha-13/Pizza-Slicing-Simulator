{
  "nbformat": 4,
  "nbformat_minor": 0,
  "metadata": {
    "colab": {
      "provenance": []
    },
    "kernelspec": {
      "name": "python3",
      "display_name": "Python 3"
    },
    "language_info": {
      "name": "python"
    }
  },
  "cells": [
    {
      "cell_type": "code",
      "execution_count": 4,
      "metadata": {
        "colab": {
          "base_uri": "https://localhost:8080/"
        },
        "id": "_uIyH4c_AFaD",
        "outputId": "2de75a9e-d5c7-4fcd-8201-353309657d43"
      },
      "outputs": [
        {
          "output_type": "stream",
          "name": "stdout",
          "text": [
            "Enter the number of slices you want: 7\n",
            "Slicing the pizza into 7 slices:\n",
            "Slice 1: 51.42857142857143 degrees\n",
            "Slice 2: 51.42857142857143 degrees\n",
            "Slice 3: 51.42857142857143 degrees\n",
            "Slice 4: 51.42857142857143 degrees\n",
            "Slice 5: 51.42857142857143 degrees\n",
            "Slice 6: 51.42857142857143 degrees\n",
            "Slice 7: 51.42857142857143 degrees\n"
          ]
        }
      ],
      "source": [
        "def slice_pizza(num_slices):\n",
        "    if num_slices <= 0:\n",
        "        print(\"Invalid input. Number of slices should be greater than 0.\")\n",
        "        return\n",
        "\n",
        "    # Slicing the pizza\n",
        "    print(f\"Slicing the pizza into {num_slices} slices:\")\n",
        "    slice_size = 360 / num_slices\n",
        "    for slice_number in range(1, num_slices + 1):\n",
        "        print(f\"Slice {slice_number}: {slice_size} degrees\")\n",
        "\n",
        "if __name__ == \"__main__\":\n",
        "    # Input\n",
        "    num_slices = int(input(\"Enter the number of slices you want: \"))\n",
        "\n",
        "    # Output\n",
        "    slice_pizza(num_slices)\n"
      ]
    }
  ]
}